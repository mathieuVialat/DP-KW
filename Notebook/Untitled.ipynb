{
 "cells": [
  {
   "cell_type": "code",
   "execution_count": 10,
   "id": "bed34c68-8d3f-4095-b3d5-4927fbba98a9",
   "metadata": {},
   "outputs": [],
   "source": [
    "import numpy as np\n",
    "import pandas as pd\n",
    "import zipfile\n",
    "import os\n",
    "import shutil"
   ]
  },
  {
   "cell_type": "code",
   "execution_count": 93,
   "id": "10468db6-3a49-4d01-9f2d-834c6f204e4d",
   "metadata": {},
   "outputs": [],
   "source": [
    "def get_class(root, file):\n",
    "    path = os.path.join(root, file)\n",
    "    df = pd.read_csv(path, sep=' ', header=None)\n",
    "    return bool(df.iloc[0,0])\n",
    "\n",
    "def move_files(root, file, path_up):\n",
    "    file_jpg = file[:-4]+'.jpg'\n",
    "    # old_txt = os.path.join(root, file)\n",
    "    # new_txt = os.path.join(path_up, file)\n",
    "    # shutil.move(old_txt, new_txt)\n",
    "    new_jpg = os.path.join(path_up, file_jpg)\n",
    "    old_jpg = os.path.join(root, file_jpg)\n",
    "    shutil.move(old_jpg, new_jpg)\n",
    "    \n",
    "def sort_and_move_files(root, path_up, path_down):\n",
    "    for file in os.listdir(root):\n",
    "        if '.txt' in file:\n",
    "            if get_class(root, file):\n",
    "                move_files(root, file, path_up)\n",
    "            else:\n",
    "                move_files(root, file, path_down)\n",
    "   \n",
    "  "
   ]
  },
  {
   "cell_type": "markdown",
   "id": "c16af39b-5f0c-45bc-b3be-637d8ea3c5a9",
   "metadata": {},
   "source": [
    "## Make train set : "
   ]
  },
  {
   "cell_type": "code",
   "execution_count": 96,
   "id": "5ab9d75c-cb9e-4658-87d3-c63f8e951dc4",
   "metadata": {
    "tags": []
   },
   "outputs": [],
   "source": [
    "\n",
    "\n",
    "# Init path_up :\n",
    "path_up = './DP-KW/Data/fitness_poses_images_in/train/pushups_up'\n",
    "if not os.path.isdir(path_up):\n",
    "    os.mkdir(path_up)\n",
    "\n",
    "#Init path_down : \n",
    "path_down = './DP-KW/Data/fitness_poses_images_in/train/pushups_down'\n",
    "if not os.path.isdir(path_down):\n",
    "    os.mkdir(path_down)\n",
    "    \n",
    "# Move file from obj for make a train set :  \n",
    "obj = './Pushup dataset/obj'\n",
    "sort_and_move_files(obj, path_up, path_down)"
   ]
  },
  {
   "cell_type": "markdown",
   "id": "9356c5ae-263f-44ef-b41c-e2380ad10efd",
   "metadata": {},
   "source": [
    "## Make test set : "
   ]
  },
  {
   "cell_type": "code",
   "execution_count": 97,
   "id": "f77a2cc1-c5eb-4649-91e6-6f3d0d59f73f",
   "metadata": {
    "tags": []
   },
   "outputs": [],
   "source": [
    "# Init path_up :\n",
    "path_test_up = './DP-KW/Data/fitness_poses_images_in/test/pushups_up'\n",
    "if not os.path.isdir(path_test_up):\n",
    "    os.mkdir(path_test_up)\n",
    "\n",
    "#Init path_down : \n",
    "path_test_down = './DP-KW/Data/fitness_poses_images_in/test/pushups_down'\n",
    "if not os.path.isdir(path_test_down):\n",
    "    os.mkdir(path_test_down)\n",
    "    \n",
    "# Move file from test for make a test set : \n",
    "test = './Pushup dataset/test' \n",
    "sort_and_move_files(test, path_test_up, path_test_down)"
   ]
  },
  {
   "cell_type": "code",
   "execution_count": null,
   "id": "1d17cf9b-1d8d-4c8f-a169-bd6baa34f757",
   "metadata": {},
   "outputs": [],
   "source": []
  }
 ],
 "metadata": {
  "kernelspec": {
   "display_name": "Python 3 (ipykernel)",
   "language": "python",
   "name": "python3"
  },
  "language_info": {
   "codemirror_mode": {
    "name": "ipython",
    "version": 3
   },
   "file_extension": ".py",
   "mimetype": "text/x-python",
   "name": "python",
   "nbconvert_exporter": "python",
   "pygments_lexer": "ipython3",
   "version": "3.9.16"
  }
 },
 "nbformat": 4,
 "nbformat_minor": 5
}
